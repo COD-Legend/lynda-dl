{
  "nbformat": 4,
  "nbformat_minor": 0,
  "metadata": {
    "colab": {
      "name": "DOWNLOAD LYNDA COURSE TO GDRIVE",
      "provenance": [],
      "collapsed_sections": [],
      "authorship_tag": "ABX9TyOP2FpaLakyFWnSMg2/cBPE",
      "include_colab_link": true
    },
    "kernelspec": {
      "name": "python3",
      "display_name": "Python 3"
    }
  },
  "cells": [
    {
      "cell_type": "markdown",
      "metadata": {
        "id": "view-in-github",
        "colab_type": "text"
      },
      "source": [
        "<a href=\"https://colab.research.google.com/github/COD-Legend/lynda-dl/blob/master/DOWNLOAD_LYNDA_COURSE_TO_GDRIVE.ipynb\" target=\"_parent\"><img src=\"https://colab.research.google.com/assets/colab-badge.svg\" alt=\"Open In Colab\"/></a>"
      ]
    },
    {
      "cell_type": "code",
      "metadata": {
        "id": "_C3ymOmCxI9w",
        "colab_type": "code",
        "cellView": "form",
        "colab": {}
      },
      "source": [
        "#@title RUN THIS MOUNT DRIVE\n",
        "from google.colab import drive\n",
        "drive.mount('/content/drive')"
      ],
      "execution_count": 0,
      "outputs": []
    },
    {
      "cell_type": "code",
      "metadata": {
        "id": "S2X9i1IWh_Mg",
        "colab_type": "code",
        "cellView": "form",
        "colab": {}
      },
      "source": [
        "#@title INSTALL THIS FIRST\n",
        "!git clone https://github.com/COD-Legend/lynda-dl.git\n",
        "!pip install -r /content/lynda-dl/requirements.txt"
      ],
      "execution_count": 0,
      "outputs": []
    },
    {
      "cell_type": "code",
      "metadata": {
        "colab_type": "code",
        "id": "EpEWbExWDJDH",
        "cellView": "both",
        "colab": {}
      },
      "source": [
        "#@title Download course using organization's library card\n",
        "LYNDA_ID = \"\" #@param {type:\"string\"}\n",
        "PIN = \"\" #@param {type:\"string\"}\n",
        "COURSE_LINK = \"\" #@param {type:\"string\"}\n",
        "!python /content/lynda-dl/lynda-dl.py -k /content/lynda-dl/cookies.txt -u \"$LYNDA_ID\" -p \"$PIN\" -o organization \"$COURSE_LINK\" -q 720 -d \"/content/lynda_Course\""
      ],
      "execution_count": 0,
      "outputs": []
    },
    {
      "cell_type": "code",
      "metadata": {
        "id": "kZXhIsU-TrmZ",
        "colab_type": "code",
        "cellView": "both",
        "colab": {}
      },
      "source": [
        "#@title Download course using user credentials\n",
        "LYNDA_ID = \"\" #@param {type:\"string\"}\n",
        "PIN = \"\" #@param {type:\"string\"}\n",
        "COURSE_LINK = \"\" #@param {type:\"string\"}\n",
        "!python /content/lynda-dl/lynda-dl.py -k /content/lynda-dl/cookies.txt -u \"$LYNDA_ID\" -p \"$PIN\" \"$COURSE_LINK\" -q 720 -d \"/content/lynda_Course\"\n"
      ],
      "execution_count": 0,
      "outputs": []
    },
    {
      "cell_type": "code",
      "metadata": {
        "id": "Hl27etpIZw3m",
        "colab_type": "code",
        "cellView": "form",
        "colab": {}
      },
      "source": [
        "#@title Move Downloaded Courses to Gdrive\n",
        "!mv /content/lynda_Course \"/content/drive/My Drive/lynda_Course\""
      ],
      "execution_count": 0,
      "outputs": []
    }
  ]
}